{
  "cells": [
    {
      "cell_type": "markdown",
      "metadata": {
        "id": "H-JkR6mHK9OK"
      },
      "source": [
        "#### Back Propogation Using Pytorch\n",
        "\n",
        "y=x^2"
      ]
    },
    {
      "cell_type": "code",
      "execution_count": null,
      "metadata": {
        "id": "FhBoH8SAK9OL"
      },
      "outputs": [],
      "source": [
        "import torch"
      ]
    },
    {
      "cell_type": "code",
      "execution_count": null,
      "metadata": {
        "id": "Bn1iLriSK9OM"
      },
      "outputs": [],
      "source": [
        "x=torch.tensor(4.0,requires_grad=True)"
      ]
    },
    {
      "cell_type": "code",
      "execution_count": null,
      "metadata": {
        "id": "LQj8LEVPK9ON",
        "outputId": "df2b0234-c2cc-45b0-b604-6f62ab61c94b"
      },
      "outputs": [
        {
          "data": {
            "text/plain": [
              "tensor(4., requires_grad=True)"
            ]
          },
          "execution_count": 3,
          "metadata": {},
          "output_type": "execute_result"
        }
      ],
      "source": [
        "x"
      ]
    },
    {
      "cell_type": "code",
      "execution_count": null,
      "metadata": {
        "id": "2So4s0y9K9OO",
        "outputId": "c94ac8d0-0cb3-402d-b080-1a665b71fe03"
      },
      "outputs": [
        {
          "data": {
            "text/plain": [
              "tensor(16., grad_fn=<PowBackward0>)"
            ]
          },
          "execution_count": 4,
          "metadata": {},
          "output_type": "execute_result"
        }
      ],
      "source": [
        "y=x**2\n",
        "y"
      ]
    },
    {
      "cell_type": "code",
      "execution_count": null,
      "metadata": {
        "id": "uu86vXiuK9OP"
      },
      "outputs": [],
      "source": [
        "#### Back propogation y=2*x\n",
        "y.backward()"
      ]
    },
    {
      "cell_type": "code",
      "execution_count": null,
      "metadata": {
        "id": "XPPs0Xd2K9OP",
        "outputId": "a6c1264c-84a1-45d3-bca5-604625a00623"
      },
      "outputs": [
        {
          "name": "stdout",
          "output_type": "stream",
          "text": [
            "tensor(8.)\n"
          ]
        }
      ],
      "source": [
        "print(x.grad)"
      ]
    },
    {
      "cell_type": "code",
      "execution_count": null,
      "metadata": {
        "id": "VcoiMxc7K9OQ"
      },
      "outputs": [],
      "source": [
        "lst=[[2.,3.,1.],[4.,5.,3.],[7.,6.,4.]]\n",
        "torch_input=torch.tensor(lst,requires_grad=True)"
      ]
    },
    {
      "cell_type": "code",
      "execution_count": null,
      "metadata": {
        "id": "Smx_3XY_K9OQ",
        "outputId": "cdaf8dc1-4ec7-4806-819b-911e3bfadced"
      },
      "outputs": [
        {
          "data": {
            "text/plain": [
              "tensor([[2., 3., 1.],\n",
              "        [4., 5., 3.],\n",
              "        [7., 6., 4.]], requires_grad=True)"
            ]
          },
          "execution_count": 24,
          "metadata": {},
          "output_type": "execute_result"
        }
      ],
      "source": [
        "torch_input"
      ]
    },
    {
      "cell_type": "code",
      "execution_count": null,
      "metadata": {
        "id": "t0wDg2BzK9OR"
      },
      "outputs": [],
      "source": []
    },
    {
      "cell_type": "code",
      "execution_count": null,
      "metadata": {
        "id": "dMjKukmAK9OR"
      },
      "outputs": [],
      "source": [
        "### y=x**3+x**2\n",
        "### y=3x**2+2x--->\n",
        "y=torch_input**3+torch_input**2"
      ]
    },
    {
      "cell_type": "code",
      "execution_count": null,
      "metadata": {
        "id": "d1aXNK4jK9OR",
        "outputId": "042b3f5e-f95e-4d80-a493-51f72ecaaece"
      },
      "outputs": [
        {
          "data": {
            "text/plain": [
              "tensor([[ 12.,  36.,   2.],\n",
              "        [ 80., 150.,  36.],\n",
              "        [392., 252.,  80.]], grad_fn=<AddBackward0>)"
            ]
          },
          "execution_count": 26,
          "metadata": {},
          "output_type": "execute_result"
        }
      ],
      "source": [
        "y"
      ]
    },
    {
      "cell_type": "code",
      "execution_count": null,
      "metadata": {
        "id": "Dj9HDyJKK9OS"
      },
      "outputs": [],
      "source": [
        "z=y.sum()"
      ]
    },
    {
      "cell_type": "code",
      "execution_count": null,
      "metadata": {
        "id": "ua-OVrGRK9OS",
        "outputId": "d11d5d81-cb90-4471-e11c-2a9d45678f70"
      },
      "outputs": [
        {
          "data": {
            "text/plain": [
              "tensor(1040., grad_fn=<SumBackward0>)"
            ]
          },
          "execution_count": 28,
          "metadata": {},
          "output_type": "execute_result"
        }
      ],
      "source": [
        "z"
      ]
    },
    {
      "cell_type": "code",
      "execution_count": null,
      "metadata": {
        "id": "llnH9DFwK9OT"
      },
      "outputs": [],
      "source": [
        "z.backward()"
      ]
    },
    {
      "cell_type": "code",
      "execution_count": null,
      "metadata": {
        "id": "U7nsoIvzK9OT",
        "outputId": "e8f079fb-f069-4384-9b7b-e25b32d7bfb1"
      },
      "outputs": [
        {
          "data": {
            "text/plain": [
              "tensor([[ 16.,  33.,   5.],\n",
              "        [ 56.,  85.,  33.],\n",
              "        [161., 120.,  56.]])"
            ]
          },
          "execution_count": 30,
          "metadata": {},
          "output_type": "execute_result"
        }
      ],
      "source": [
        "torch_input.grad"
      ]
    },
    {
      "cell_type": "code",
      "execution_count": null,
      "metadata": {
        "id": "681IhNfaK9OU"
      },
      "outputs": [],
      "source": []
    }
  ],
  "metadata": {
    "kernelspec": {
      "display_name": "Python 3",
      "language": "python",
      "name": "python3"
    },
    "language_info": {
      "codemirror_mode": {
        "name": "ipython",
        "version": 3
      },
      "file_extension": ".py",
      "mimetype": "text/x-python",
      "name": "python",
      "nbconvert_exporter": "python",
      "pygments_lexer": "ipython3",
      "version": "3.7.3"
    },
    "colab": {
      "provenance": []
    }
  },
  "nbformat": 4,
  "nbformat_minor": 0
}