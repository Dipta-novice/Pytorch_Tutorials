{
  "cells": [
    {
      "cell_type": "markdown",
      "metadata": {
        "id": "QFjD5gLTKbUz"
      },
      "source": [
        "### Pytorch Tutorial\n",
        "#### Tensors Basics\n",
        "A tensor is a generalization of vectors and matrices and is easily understood as a multidimensional array.It is a term and set of techniques known in machine learning in the training and operation of deep learning models can be described in terms of tensors.\n",
        "In many cases tensors are used as a replacement for NumPy to use the power of GPUs.\n",
        "\n",
        "Tensors are a type of data structure used in linear algebra, and like vectors and matrices, you can calculate arithmetic operations with tensors."
      ]
    },
    {
      "cell_type": "code",
      "execution_count": null,
      "metadata": {
        "id": "nuS2RCfLKbU1"
      },
      "outputs": [],
      "source": [
        "import torch"
      ]
    },
    {
      "cell_type": "code",
      "execution_count": null,
      "metadata": {
        "id": "pPdTYFX4KbU3",
        "outputId": "5a6a4675-bdb6-426e-a377-7bdbacb52de2"
      },
      "outputs": [
        {
          "data": {
            "text/plain": [
              "'1.5.1'"
            ]
          },
          "execution_count": 57,
          "metadata": {},
          "output_type": "execute_result"
        }
      ],
      "source": [
        "torch.__version__"
      ]
    },
    {
      "cell_type": "code",
      "execution_count": null,
      "metadata": {
        "id": "rVhNOOw8KbU4"
      },
      "outputs": [],
      "source": [
        "import numpy as np"
      ]
    },
    {
      "cell_type": "code",
      "execution_count": null,
      "metadata": {
        "id": "tj1eiCd3KbU4"
      },
      "outputs": [],
      "source": [
        "lst=[3,4,5,6]\n",
        "arr=np.array(lst)"
      ]
    },
    {
      "cell_type": "code",
      "execution_count": null,
      "metadata": {
        "id": "2VjgysNEKbU4",
        "outputId": "9b015705-6609-451a-8a23-5a3a3febc497"
      },
      "outputs": [
        {
          "data": {
            "text/plain": [
              "array([3, 4, 5, 6])"
            ]
          },
          "execution_count": 61,
          "metadata": {},
          "output_type": "execute_result"
        }
      ],
      "source": [
        "arr"
      ]
    },
    {
      "cell_type": "code",
      "execution_count": null,
      "metadata": {
        "id": "NYtPCc2sKbU5",
        "outputId": "6ce890ab-a352-45d9-c33e-66218c88d8f6"
      },
      "outputs": [
        {
          "data": {
            "text/plain": [
              "dtype('int32')"
            ]
          },
          "execution_count": 60,
          "metadata": {},
          "output_type": "execute_result"
        }
      ],
      "source": [
        "arr.dtype"
      ]
    },
    {
      "cell_type": "markdown",
      "metadata": {
        "id": "UG8BvEhPKbU5"
      },
      "source": [
        "### Convert Numpy To Pytorch Tensors"
      ]
    },
    {
      "cell_type": "code",
      "execution_count": null,
      "metadata": {
        "id": "_J4jQZiGKbU6",
        "outputId": "8d44f6b2-404b-4173-e5b5-7b9186e2795d"
      },
      "outputs": [
        {
          "data": {
            "text/plain": [
              "tensor([3, 4, 5, 6], dtype=torch.int32)"
            ]
          },
          "execution_count": 62,
          "metadata": {},
          "output_type": "execute_result"
        }
      ],
      "source": [
        "tensors=torch.from_numpy(arr)\n",
        "tensors"
      ]
    },
    {
      "cell_type": "code",
      "execution_count": null,
      "metadata": {
        "id": "Jl7VPdyrKbU7",
        "outputId": "d0b6e58f-9486-40f9-aaff-98b6f1c69157"
      },
      "outputs": [
        {
          "data": {
            "text/plain": [
              "tensor(5, dtype=torch.int32)"
            ]
          },
          "execution_count": 64,
          "metadata": {},
          "output_type": "execute_result"
        }
      ],
      "source": [
        "### Indexing similar to numpy\n",
        "tensors[2]\n"
      ]
    },
    {
      "cell_type": "code",
      "execution_count": null,
      "metadata": {
        "id": "yOR2c5PVKbU8",
        "outputId": "946d4a2a-3b66-48c4-814c-f845d1ae3436"
      },
      "outputs": [
        {
          "data": {
            "text/plain": [
              "tensor([4, 5, 6], dtype=torch.int32)"
            ]
          },
          "execution_count": 27,
          "metadata": {},
          "output_type": "execute_result"
        }
      ],
      "source": [
        "tensors[1:4]"
      ]
    },
    {
      "cell_type": "code",
      "execution_count": null,
      "metadata": {
        "id": "hdk7C3ikKbU8"
      },
      "outputs": [],
      "source": [
        "#### Disadvantage of from_numpy. The array and tensor uses the same memory location\n",
        "tensors[3]=100"
      ]
    },
    {
      "cell_type": "code",
      "execution_count": null,
      "metadata": {
        "id": "wW1pAlEKKbU8",
        "outputId": "a39e5e03-707c-45ef-a6a2-389c17388e54"
      },
      "outputs": [
        {
          "data": {
            "text/plain": [
              "tensor([  3,   4,   5, 100], dtype=torch.int32)"
            ]
          },
          "execution_count": 66,
          "metadata": {},
          "output_type": "execute_result"
        }
      ],
      "source": [
        "tensors"
      ]
    },
    {
      "cell_type": "code",
      "execution_count": null,
      "metadata": {
        "id": "Bn_OLsc7KbU9",
        "outputId": "d00b8304-b97c-4834-c7aa-4fc6f02a2e26"
      },
      "outputs": [
        {
          "data": {
            "text/plain": [
              "array([  3,   4,   5, 100])"
            ]
          },
          "execution_count": 67,
          "metadata": {},
          "output_type": "execute_result"
        }
      ],
      "source": [
        "arr"
      ]
    },
    {
      "cell_type": "code",
      "execution_count": null,
      "metadata": {
        "id": "hO68iTLMKbU9",
        "outputId": "c81f80ac-5e61-4ca5-a49b-e197f24a8f30"
      },
      "outputs": [
        {
          "data": {
            "text/plain": [
              "tensor([  3,   4,   5, 100], dtype=torch.int32)"
            ]
          },
          "execution_count": 68,
          "metadata": {},
          "output_type": "execute_result"
        }
      ],
      "source": [
        "### Prevent this by using torch.tensor\n",
        "tensor_arr=torch.tensor(arr)\n",
        "tensor_arr"
      ]
    },
    {
      "cell_type": "code",
      "execution_count": null,
      "metadata": {
        "id": "3cESiRAsKbU-",
        "outputId": "702a35a6-ceb6-4689-b2c5-e846439e8291"
      },
      "outputs": [
        {
          "name": "stdout",
          "output_type": "stream",
          "text": [
            "tensor([  3,   4,   5, 120], dtype=torch.int32)\n",
            "[  3   4   5 100]\n"
          ]
        }
      ],
      "source": [
        "tensor_arr[3]=120\n",
        "print(tensor_arr)\n",
        "print(arr)"
      ]
    },
    {
      "cell_type": "code",
      "execution_count": null,
      "metadata": {
        "id": "BKIy3ZFyKbU_",
        "outputId": "4f285637-cd75-48ea-c07e-f3e0fa2f61ed"
      },
      "outputs": [
        {
          "data": {
            "text/plain": [
              "tensor([[0., 0., 0.],\n",
              "        [0., 0., 0.]], dtype=torch.float64)"
            ]
          },
          "execution_count": 70,
          "metadata": {},
          "output_type": "execute_result"
        }
      ],
      "source": [
        "##zeros and ones\n",
        "torch.zeros(2,3,dtype=torch.float64)"
      ]
    },
    {
      "cell_type": "code",
      "execution_count": null,
      "metadata": {
        "id": "t8sDlphqKbU_",
        "outputId": "c3264c9f-5950-41ca-e5ef-f77072e12b32"
      },
      "outputs": [
        {
          "data": {
            "text/plain": [
              "tensor([[1., 1., 1.],\n",
              "        [1., 1., 1.]], dtype=torch.float64)"
            ]
          },
          "execution_count": 37,
          "metadata": {},
          "output_type": "execute_result"
        }
      ],
      "source": [
        "torch.ones(2,3,dtype=torch.float64)"
      ]
    },
    {
      "cell_type": "code",
      "execution_count": null,
      "metadata": {
        "id": "oEEridowKbU_"
      },
      "outputs": [],
      "source": [
        "a=torch.tensor(np.arange(0,15).reshape(5,3))"
      ]
    },
    {
      "cell_type": "code",
      "execution_count": null,
      "metadata": {
        "id": "M16E8go6KbVA",
        "outputId": "116034e7-ab3c-4c7b-99e8-e902f476513f"
      },
      "outputs": [
        {
          "data": {
            "text/plain": [
              "tensor([[ 0,  1],\n",
              "        [ 3,  4],\n",
              "        [ 6,  7],\n",
              "        [ 9, 10],\n",
              "        [12, 13]], dtype=torch.int32)"
            ]
          },
          "execution_count": 76,
          "metadata": {},
          "output_type": "execute_result"
        }
      ],
      "source": [
        "a[:,0:2]"
      ]
    },
    {
      "cell_type": "markdown",
      "metadata": {
        "id": "5nk6cJNDKbVA"
      },
      "source": [
        "##### Arithmetic Operation"
      ]
    },
    {
      "cell_type": "code",
      "execution_count": null,
      "metadata": {
        "id": "f8OAPEVOKbVA",
        "outputId": "2abef6e4-85f4-4516-ae3a-26bb5e7c2a1d"
      },
      "outputs": [
        {
          "name": "stdout",
          "output_type": "stream",
          "text": [
            "tensor([ 7.,  9., 11.])\n"
          ]
        }
      ],
      "source": [
        "a = torch.tensor([3,4,5], dtype=torch.float)\n",
        "b = torch.tensor([4,5,6], dtype=torch.float)\n",
        "print(a + b)"
      ]
    },
    {
      "cell_type": "code",
      "execution_count": null,
      "metadata": {
        "id": "QEFgzEVJKbVA",
        "outputId": "4a7cc6bd-2aa7-4542-f60f-c0d94255ad28"
      },
      "outputs": [
        {
          "data": {
            "text/plain": [
              "tensor([ 7.,  9., 11.])"
            ]
          },
          "execution_count": 80,
          "metadata": {},
          "output_type": "execute_result"
        }
      ],
      "source": [
        "torch.add(a,b)"
      ]
    },
    {
      "cell_type": "code",
      "execution_count": null,
      "metadata": {
        "id": "FD619PmBKbVA"
      },
      "outputs": [],
      "source": [
        "c=torch.zeros(3)"
      ]
    },
    {
      "cell_type": "code",
      "execution_count": null,
      "metadata": {
        "id": "EwUEfFBsKbVB",
        "outputId": "85afa6a9-fc74-4e8c-ab2f-bd0b6f13b25b"
      },
      "outputs": [
        {
          "data": {
            "text/plain": [
              "tensor([ 7.,  9., 11.])"
            ]
          },
          "execution_count": 82,
          "metadata": {},
          "output_type": "execute_result"
        }
      ],
      "source": [
        "torch.add(a,b,out=c)"
      ]
    },
    {
      "cell_type": "code",
      "execution_count": null,
      "metadata": {
        "id": "dThv13vEKbVC",
        "outputId": "a0b73ca8-3b8c-4e5d-e740-1a05338b4c68"
      },
      "outputs": [
        {
          "data": {
            "text/plain": [
              "tensor([ 7.,  9., 11.])"
            ]
          },
          "execution_count": 83,
          "metadata": {},
          "output_type": "execute_result"
        }
      ],
      "source": [
        "c"
      ]
    },
    {
      "cell_type": "code",
      "execution_count": null,
      "metadata": {
        "id": "ESTVZm22KbVC"
      },
      "outputs": [],
      "source": [
        "##### Some more operations\n",
        "a = torch.tensor([3,4,5], dtype=torch.float)\n",
        "b = torch.tensor([4,5,6], dtype=torch.float)"
      ]
    },
    {
      "cell_type": "code",
      "execution_count": null,
      "metadata": {
        "id": "5pLEXP6QKbVD",
        "outputId": "801a0550-652c-4c2d-c934-bd49a9370972"
      },
      "outputs": [
        {
          "data": {
            "text/plain": [
              "tensor(27.)"
            ]
          },
          "execution_count": 84,
          "metadata": {},
          "output_type": "execute_result"
        }
      ],
      "source": [
        "### tensor[7,9,15]\n",
        "torch.add(a,b).sum()"
      ]
    },
    {
      "cell_type": "markdown",
      "metadata": {
        "id": "DztEv8r3KbVD"
      },
      "source": [
        "##### Dot Products and Mult Operations"
      ]
    },
    {
      "cell_type": "code",
      "execution_count": null,
      "metadata": {
        "id": "LjqiI9EsKbVD"
      },
      "outputs": [],
      "source": [
        "x= torch.tensor([3,4,5], dtype=torch.float)\n",
        "y = torch.tensor([4,5,6], dtype=torch.float)"
      ]
    },
    {
      "cell_type": "code",
      "execution_count": null,
      "metadata": {
        "id": "Lv2wSJV7KbVD",
        "outputId": "abe791df-2fb4-4344-c4ad-8e064aac8a0c"
      },
      "outputs": [
        {
          "data": {
            "text/plain": [
              "tensor([12., 20., 30.])"
            ]
          },
          "execution_count": 47,
          "metadata": {},
          "output_type": "execute_result"
        }
      ],
      "source": [
        "x.mul(y)"
      ]
    },
    {
      "cell_type": "code",
      "execution_count": null,
      "metadata": {
        "id": "ydmy8Pd2KbVD"
      },
      "outputs": [],
      "source": [
        "### 3*4+5*4+6*5"
      ]
    },
    {
      "cell_type": "code",
      "execution_count": null,
      "metadata": {
        "id": "eoiil3JdKbVD",
        "outputId": "b08d3292-da2c-4cb4-9494-1031aa39cd81"
      },
      "outputs": [
        {
          "data": {
            "text/plain": [
              "tensor(62.)"
            ]
          },
          "execution_count": 48,
          "metadata": {},
          "output_type": "execute_result"
        }
      ],
      "source": [
        "x.dot(y)"
      ]
    },
    {
      "cell_type": "code",
      "execution_count": null,
      "metadata": {
        "id": "HI-CLW1vKbVE"
      },
      "outputs": [],
      "source": [
        "###### MAtrix Multiplication"
      ]
    },
    {
      "cell_type": "code",
      "execution_count": null,
      "metadata": {
        "id": "mEyA5xSgKbVF"
      },
      "outputs": [],
      "source": [
        "x = torch.tensor([[1,4,2],[1,5,5]], dtype=torch.float)\n",
        "y = torch.tensor([[5,7],[8,6],[9,11]], dtype=torch.float)"
      ]
    },
    {
      "cell_type": "code",
      "execution_count": null,
      "metadata": {
        "id": "pZaTyueNKbVF",
        "outputId": "f016c738-eaf6-4819-e6fa-128fd61338a2"
      },
      "outputs": [
        {
          "data": {
            "text/plain": [
              "tensor([[55., 53.],\n",
              "        [90., 92.]])"
            ]
          },
          "execution_count": 52,
          "metadata": {},
          "output_type": "execute_result"
        }
      ],
      "source": [
        "torch.matmul(x,y)"
      ]
    },
    {
      "cell_type": "code",
      "execution_count": null,
      "metadata": {
        "id": "pQhPPdgNKbVF",
        "outputId": "06f2d47b-be94-4177-c080-1712b18edc18"
      },
      "outputs": [
        {
          "data": {
            "text/plain": [
              "tensor([[55., 53.],\n",
              "        [90., 92.]])"
            ]
          },
          "execution_count": 54,
          "metadata": {},
          "output_type": "execute_result"
        }
      ],
      "source": [
        "torch.mm(x,y)"
      ]
    },
    {
      "cell_type": "code",
      "execution_count": null,
      "metadata": {
        "id": "HteuuOnrKbVG",
        "outputId": "4d39c868-3970-4695-a68a-5bf88f6e1ba4"
      },
      "outputs": [
        {
          "data": {
            "text/plain": [
              "tensor([[55., 53.],\n",
              "        [90., 92.]])"
            ]
          },
          "execution_count": 55,
          "metadata": {},
          "output_type": "execute_result"
        }
      ],
      "source": [
        "x@y"
      ]
    },
    {
      "cell_type": "code",
      "execution_count": null,
      "metadata": {
        "id": "nwt1oPs3KbVG"
      },
      "outputs": [],
      "source": []
    }
  ],
  "metadata": {
    "kernelspec": {
      "display_name": "Python 3",
      "language": "python",
      "name": "python3"
    },
    "language_info": {
      "codemirror_mode": {
        "name": "ipython",
        "version": 3
      },
      "file_extension": ".py",
      "mimetype": "text/x-python",
      "name": "python",
      "nbconvert_exporter": "python",
      "pygments_lexer": "ipython3",
      "version": "3.7.3"
    },
    "colab": {
      "provenance": []
    }
  },
  "nbformat": 4,
  "nbformat_minor": 0
}